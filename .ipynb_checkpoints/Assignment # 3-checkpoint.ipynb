{
 "cells": [
  {
   "cell_type": "markdown",
   "metadata": {},
   "source": []
  },
  {
   "cell_type": "code",
   "execution_count": 1,
   "metadata": {},
   "outputs": [
    {
     "name": "stdout",
     "output_type": "stream",
     "text": [
      "First Digit:5\n",
      "Second Digit:5\n",
      "1) Addition\n",
      "2)Subtraction\n",
      "3)Multiplication\n",
      "4)Division\n",
      "5)Power\n",
      "Choose operation no.:3\n",
      "5 X 5 = 25\n"
     ]
    }
   ],
   "source": [
    "num1 = int(input('First Digit:'))\n",
    "num2 = int(input('Second Digit:'))\n",
    "\n",
    "print('1) Addition\\n2)Subtraction\\n3)Multiplication\\n4)Division\\n5)Power')\n",
    "ch = int(input('Choose operation no.:'))\n",
    "\n",
    "if ch == 1:\n",
    " print( num1, \"+\", num2, \"=\", num1 + num2)\n",
    "elif ch == 2:\n",
    " print( num1, \"-\", num2, \"=\", num1 - num2)\n",
    "elif ch == 3:\n",
    " print( num1, \"X\", num2, \"=\", num1 * num2)\n",
    "elif ch == 4:\n",
    " print( num1, \"/\", num2, \"=\", num1 / num2)\n",
    "elif ch == 5:\n",
    " print( num1, \"^\", num2, \"=\", (pow(num1,num2)))\n",
    "else:\n",
    " print(\"Wrong input\")\n",
    "\n",
    "\n",
    "\n"
   ]
  },
  {
   "cell_type": "markdown",
   "metadata": {},
   "source": []
  },
  {
   "cell_type": "code",
   "execution_count": 2,
   "metadata": {},
   "outputs": [
    {
     "name": "stdout",
     "output_type": "stream",
     "text": [
      "major is not a numeric value\n",
      "sarmed is not a numeric value\n",
      "There is a numeric Value: 44\n",
      "Rizvi is not a numeric value\n",
      "There is a numeric Value: 34\n"
     ]
    }
   ],
   "source": [
    "list_1 = ['major','sarmed',44,'Rizvi',34]\n",
    "\n",
    "intType = type(2)\n",
    "\n",
    "for i in list_1:\n",
    " if type(i) == intType:\n",
    "  print(\"There is a numeric Value:\", i)\n",
    " else:\n",
    "  print(i, \"is not a numeric value\")\n",
    "\n"
   ]
  },
  {
   "cell_type": "markdown",
   "metadata": {},
   "source": []
  },
  {
   "cell_type": "code",
   "execution_count": 5,
   "metadata": {},
   "outputs": [
    {
     "name": "stdout",
     "output_type": "stream",
     "text": [
      "{0: 1, 1: 10}\n",
      "{0: 1, 1: 10, 2: 100}\n"
     ]
    }
   ],
   "source": [
    "dict_1 = {0:1, 1:10}\n",
    "print(dict_1)\n",
    "\n",
    "dict_1.update({2:100})\n",
    "print(dict_1)\n"
   ]
  },
  {
   "cell_type": "markdown",
   "metadata": {},
   "source": []
  },
  {
   "cell_type": "code",
   "execution_count": 6,
   "metadata": {},
   "outputs": [
    {
     "name": "stdout",
     "output_type": "stream",
     "text": [
      "{'p1': 400, 'p2': -5, 'p3': 204}\n",
      "599\n"
     ]
    }
   ],
   "source": [
    "dic_1 = {'p1':400,'p2':-5,'p3':204}\n",
    "print(dic_1)\n",
    "print(sum(dic_1.values()))\n"
   ]
  },
  {
   "cell_type": "markdown",
   "metadata": {},
   "source": []
  },
  {
   "cell_type": "code",
   "execution_count": 4,
   "metadata": {},
   "outputs": [
    {
     "name": "stdout",
     "output_type": "stream",
     "text": [
      "[2, 1, 3, 1, 3, 6, 6, 2]\n",
      "[1, 1, 2, 2, 3, 3, 6, 6]\n",
      "\n",
      "\n",
      "2\n",
      "2\n",
      "\n",
      "\n",
      "6\n",
      "6\n"
     ]
    }
   ],
   "source": [
    "array1 = [2,1,3,1,3,6,6,2]\n",
    "\n",
    "print(array1)\n",
    "array1.sort()\n",
    "print(array1)\n",
    "\n",
    "for i in array1:\n",
    " if array1[i] == array1[i+1]:\n",
    "  print(array1[i])\n",
    " else:\n",
    "  print(\"\")\n"
   ]
  },
  {
   "cell_type": "markdown",
   "metadata": {},
   "source": []
  },
  {
   "cell_type": "code",
   "execution_count": 5,
   "metadata": {},
   "outputs": [
    {
     "name": "stdout",
     "output_type": "stream",
     "text": [
      "Yes there is value = 200\n"
     ]
    }
   ],
   "source": [
    "dict_1 = {\"a\":100, \"b\":200, \"c\":400}\n",
    "\n",
    "key = 'b'\n",
    "\n",
    "if key in dict_1.keys():\n",
    " print(\"Yes there is\", \"value =\", dict_1[key])\n",
    "\n",
    "else:\n",
    " print('No there is not')\n",
    "\n"
   ]
  },
  {
   "cell_type": "code",
   "execution_count": null,
   "metadata": {},
   "outputs": [],
   "source": []
  }
 ],
 "metadata": {
  "kernelspec": {
   "display_name": "Python 3",
   "language": "python",
   "name": "python3"
  },
  "language_info": {
   "codemirror_mode": {
    "name": "ipython",
    "version": 3
   },
   "file_extension": ".py",
   "mimetype": "text/x-python",
   "name": "python",
   "nbconvert_exporter": "python",
   "pygments_lexer": "ipython3",
   "version": "3.7.4"
  }
 },
 "nbformat": 4,
 "nbformat_minor": 2
}
