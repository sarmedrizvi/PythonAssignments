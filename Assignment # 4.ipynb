{
 "cells": [
  {
   "cell_type": "markdown",
   "metadata": {},
   "source": [
    "## Question # 5 : Guess The Number Game"
   ]
  },
  {
   "cell_type": "code",
   "execution_count": 39,
   "metadata": {},
   "outputs": [
    {
     "name": "stdout",
     "output_type": "stream",
     "text": [
      "Chances = 3\n",
      "Enter Any Number Within 1 to 30 = 15\n",
      "Your Number Is Lesser\n",
      "Chances = 2\n",
      "Enter Any Number Within 1 to 30 = 25\n",
      "Your Number Is Lesser\n",
      "Chances = 1\n",
      "Enter Any Number Within 1 to 30 = 29\n",
      "Your Number Is Greater\n"
     ]
    }
   ],
   "source": [
    "import random\n",
    "rand_No = random.randint(1,30)\n",
    "chances = 3\n",
    "for i in range(3):\n",
    "    print(f\"Chances = {chances}\")\n",
    "    number  = int(input(\"Enter Any Number Within 1 to 30 = \"))\n",
    "    if(rand_No == number):\n",
    "        print(\"Correct!!\")\n",
    "        break\n",
    "        \n",
    "    elif(number > rand_No):\n",
    "        print(\"Your Number Is Greater\")\n",
    "    \n",
    "    elif(number < rand_No):\n",
    "        print(\"Your Number Is Lesser\")\n",
    "    \n",
    "    chances -=1\n",
    "        "
   ]
  },
  {
   "cell_type": "markdown",
   "metadata": {},
   "source": [
    "## Question # 3 : Movie Theater"
   ]
  },
  {
   "cell_type": "code",
   "execution_count": null,
   "metadata": {},
   "outputs": [
    {
     "name": "stdout",
     "output_type": "stream",
     "text": [
      "Enter Your Age = 45\n",
      "Your Ticket Is $15\n",
      "Enter Your Age = 3\n",
      "Your Ticket Is $10\n",
      "Enter Your Age = 2\n",
      "Your Ticket Is Free\n"
     ]
    }
   ],
   "source": [
    "for i in range(1,10):\n",
    "    user_Age = int(input(\"Enter Your Age = \"))\n",
    "    if(user_Age < 3):\n",
    "        print(\"Your Ticket Is Free\")\n",
    "    elif((user_Age >= 3) & (user_Age <= 12 )):\n",
    "        print(\"Your Ticket Is $10\")\n",
    "    elif(user_Age > 12):\n",
    "        print(\"Your Ticket Is $15\")"
   ]
  },
  {
   "cell_type": "markdown",
   "metadata": {},
   "source": [
    "## Question # 2 : Cities In Dictionaries"
   ]
  },
  {
   "cell_type": "code",
   "execution_count": 17,
   "metadata": {},
   "outputs": [
    {
     "name": "stdout",
     "output_type": "stream",
     "text": [
      " Karachi : ['Pakistan', '18 Million', '6th Largest city In The World']\n",
      " Dhaka : ['Bangladesh', '14.4.7 Million', 'Bangladesh Was the Part Of Pakistan']\n",
      " NewYork : ['America', '8.5 Million', 'Statue Of Liboratory Is In NewYork']\n"
     ]
    }
   ],
   "source": [
    "cities_Dic = {\"Karachi\":[\"Pakistan\",\"18 Million\",\"6th Largest city In The World\"],\n",
    "              \"Dhaka\":[\"Bangladesh\",\"14.4.7 Million\",\"Bangladesh Was the Part Of Pakistan\"],\n",
    "              \"NewYork\":[\"America\",\"8.5 Million\",\"Statue Of Liboratory Is In NewYork\"]}\n",
    "for i in cities_Dic.keys():\n",
    "    print(f\" {i} : {cities_Dic[i]}\")\n",
    "    "
   ]
  },
  {
   "cell_type": "markdown",
   "metadata": {},
   "source": [
    "## Question # 4 : Function Favorite Book"
   ]
  },
  {
   "cell_type": "code",
   "execution_count": 20,
   "metadata": {},
   "outputs": [
    {
     "name": "stdout",
     "output_type": "stream",
     "text": [
      "One of my favorite books is Harry Potter \n"
     ]
    }
   ],
   "source": [
    "def favBook(title):\n",
    "    print(f\"One of my favorite books is {title} \")\n",
    "favBook(\"Harry Potter\")"
   ]
  },
  {
   "cell_type": "markdown",
   "metadata": {},
   "source": [
    "## Question # 1 : Dictionary Information"
   ]
  },
  {
   "cell_type": "code",
   "execution_count": 63,
   "metadata": {},
   "outputs": [
    {
     "name": "stdout",
     "output_type": "stream",
     "text": [
      " \n",
      "===========================\n",
      " Initial Dictionary  \n",
      " ===========================\n",
      "\n",
      "First_Name is Maaz\n",
      "Last_Name is Tauisf\n",
      "Age is 20\n",
      "City is Karachi\n",
      " \n",
      "===========================\n",
      " After Enter New Key  \n",
      " ===========================\n",
      "\n",
      "First_Name is Maaz\n",
      "Last_Name is Tauisf\n",
      "Age is 20\n",
      "City is Karachi\n",
      "Qualification is Matric\n",
      " \n",
      "===========================\n",
      " After Ubdate New Key  \n",
      " ===========================\n",
      "\n",
      "First_Name is Maaz\n",
      "Last_Name is Tauisf\n",
      "Age is 20\n",
      "City is Karachi\n",
      "Qualification is High School\n",
      " \n",
      "===========================\n",
      " After Delete New Key  \n",
      " ===========================\n",
      "\n",
      "First_Name is Maaz\n",
      "Last_Name is Tauisf\n",
      "Age is 20\n",
      "City is Karachi\n"
     ]
    }
   ],
   "source": [
    "print(\" \\n===========================\\n Initial Dictionary  \\n ===========================\\n\")\n",
    "\n",
    "user_Bio = {\"First_Name\":\"Maaz\" ,\"Last_Name\":\"Tauisf\",\"Age\":20,\"City\":\"Karachi\"}\n",
    "for i in user_Bio.keys():\n",
    "    print(f\"{i} is {user_Bio[i]}\")\n",
    "    \n",
    "user_Bio.update({\"Qualification\" : \"Matric\"} )\n",
    "\n",
    "print(\" \\n===========================\\n After Enter New Key  \\n ===========================\\n\")\n",
    "\n",
    "for i in user_Bio.keys():\n",
    "    print(f\"{i} is {user_Bio[i]}\")\n",
    "\n",
    "user_Bio.update({\"Qualification\" : \"High School\"})\n",
    "\n",
    "print(\" \\n===========================\\n After Ubdate New Key  \\n ===========================\\n\")\n",
    "for i in user_Bio.keys():\n",
    "    print(f\"{i} is {user_Bio[i]}\")\n",
    "    \n",
    "del user_Bio[\"Qualification\"]   \n",
    "print(\" \\n===========================\\n After Delete New Key  \\n ===========================\\n\")\n",
    "for i in user_Bio.keys():\n",
    "    print(f\"{i} is {user_Bio[i]}\")"
   ]
  },
  {
   "cell_type": "code",
   "execution_count": null,
   "metadata": {},
   "outputs": [],
   "source": []
  }
 ],
 "metadata": {
  "kernelspec": {
   "display_name": "Python 3",
   "language": "python",
   "name": "python3"
  },
  "language_info": {
   "codemirror_mode": {
    "name": "ipython",
    "version": 3
   },
   "file_extension": ".py",
   "mimetype": "text/x-python",
   "name": "python",
   "nbconvert_exporter": "python",
   "pygments_lexer": "ipython3",
   "version": "3.7.3"
  }
 },
 "nbformat": 4,
 "nbformat_minor": 2
}
