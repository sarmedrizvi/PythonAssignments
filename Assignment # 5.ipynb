{
 "cells": [
  {
   "cell_type": "markdown",
   "metadata": {},
   "source": [
    "### Question # 5"
   ]
  },
  {
   "cell_type": "code",
   "execution_count": 11,
   "metadata": {},
   "outputs": [
    {
     "name": "stdout",
     "output_type": "stream",
     "text": [
      "Enter Any Number To Check Prime No = 13\n",
      "This is Prime no\n"
     ]
    }
   ],
   "source": [
    "def Prime123(temp):\n",
    "    c=0\n",
    "    a = temp\n",
    "    for i in range(3,temp):\n",
    "              \n",
    "        if a==2:\n",
    "            print(\"Prime no\")\n",
    "            break\n",
    "        elif a==3:\n",
    "            print(\"Prime no\")\n",
    "            break\n",
    "        elif a % i == 0:\n",
    "            print(\"This is not Prime No\")\n",
    "            c = c+1\n",
    "            break\n",
    "    if c==0:\n",
    "        print(\"This is Prime no\")\n",
    "    \n",
    "x = int(input(\"Enter Any Number To Check Prime No = \"))      \n",
    "Prime123(x)"
   ]
  },
  {
   "cell_type": "markdown",
   "metadata": {},
   "source": [
    "### Question:1"
   ]
  },
  {
   "cell_type": "code",
   "execution_count": 23,
   "metadata": {},
   "outputs": [
    {
     "name": "stdout",
     "output_type": "stream",
     "text": [
      "Enter No : 5\n",
      "The Factorial is 120\n"
     ]
    }
   ],
   "source": [
    "def factorial(fac):\n",
    "    s=1\n",
    "    for i in range(fac,0,-1):\n",
    "        s*=i\n",
    "    print(f\"The Factorial is {s}\")\n",
    "a = int(input(\"Enter No : \"))\n",
    "factorial(5)"
   ]
  },
  {
   "cell_type": "markdown",
   "metadata": {},
   "source": [
    "### Question:2"
   ]
  },
  {
   "cell_type": "code",
   "execution_count": 31,
   "metadata": {},
   "outputs": [
    {
     "name": "stdout",
     "output_type": "stream",
     "text": [
      "No. of Upper case characters : 9,No. of Lower case characters : 29\n"
     ]
    }
   ],
   "source": [
    "def case(s):\n",
    "    u=0\n",
    "    l=0\n",
    "    for j in s:\n",
    "        if j.isupper():\n",
    "            u+=1\n",
    "        if j.islower():\n",
    "            l+=1\n",
    "        \n",
    "    print(f\" {u} {l}\")\n",
    "    \n",
    "    \n",
    "up_low(\"Hello Mister How Are you ? And What Are You Doing ?\")\n"
   ]
  },
  {
   "cell_type": "markdown",
   "metadata": {},
   "source": [
    "### Question:3"
   ]
  },
  {
   "cell_type": "code",
   "execution_count": 33,
   "metadata": {},
   "outputs": [
    {
     "name": "stdout",
     "output_type": "stream",
     "text": [
      "Even No = 0\n",
      "Even No = 2\n",
      "Even No = 4\n",
      "Even No = 6\n",
      "Even No = 8\n",
      "Even No = 10\n"
     ]
    }
   ],
   "source": [
    "def even(e):\n",
    "    for i in e:\n",
    "        if i % 2 ==0:\n",
    "            print(f\"Even No = {i}\")\n",
    "    \n",
    "    \n",
    "a = [0,1,2,3,4,5,6,7,8,9,10]\n",
    "even(a)"
   ]
  },
  {
   "cell_type": "markdown",
   "metadata": {},
   "source": [
    "### Question:4"
   ]
  },
  {
   "cell_type": "code",
   "execution_count": 54,
   "metadata": {},
   "outputs": [
    {
     "name": "stdout",
     "output_type": "stream",
     "text": [
      "Enter String : mom\n",
      "Palindrome = True\n"
     ]
    }
   ],
   "source": [
    "def isPalindrome(string):\n",
    "    left_pos = 0\n",
    "    right_pos = len(string) - 1\n",
    "\n",
    "    while right_pos >= left_pos:\n",
    "        if not string[left_pos] == string[right_pos]:\n",
    "            return False\n",
    "        left_pos += 1\n",
    "        right_pos -= 1\n",
    "    return True\n",
    "b = input(\"Enter String : \")\n",
    "a = isPalindrome(b)\n",
    "print(f\"Palindrome = {a}\")"
   ]
  },
  {
   "cell_type": "markdown",
   "metadata": {},
   "source": [
    "### Question # 6"
   ]
  },
  {
   "cell_type": "code",
   "execution_count": 57,
   "metadata": {},
   "outputs": [
    {
     "name": "stdout",
     "output_type": "stream",
     "text": [
      "The Item of list that they buy \n",
      " 1)apple \n",
      " 2)Meat\n",
      " 3)Vegitable\n",
      " 4)Cloths\n",
      " 5)unknown\n",
      " 6)Unknown\n"
     ]
    }
   ],
   "source": [
    "def shopping(item_1=\"unknown\",item_2=\"Unknown\",item_3 =\"unknown\",item_4 =\"Unknown\",item_5 =\"unknown\",item_6 =\"Unknown\"):\n",
    "    print(f\"The Item of list that they buy \\n 1){item_1} \\n 2){item_2}\\n 3){item_3}\\n 4){item_4}\\n 5){item_5}\\n 6){item_6}\")\n",
    "\n",
    "shopping(\"apple\",\"Meat\",\"Vegitable\",\"Cloths\")\n",
    "    "
   ]
  },
  {
   "cell_type": "code",
   "execution_count": null,
   "metadata": {},
   "outputs": [],
   "source": []
  }
 ],
 "metadata": {
  "kernelspec": {
   "display_name": "Python 3",
   "language": "python",
   "name": "python3"
  },
  "language_info": {
   "codemirror_mode": {
    "name": "ipython",
    "version": 3
   },
   "file_extension": ".py",
   "mimetype": "text/x-python",
   "name": "python",
   "nbconvert_exporter": "python",
   "pygments_lexer": "ipython3",
   "version": "3.7.3"
  }
 },
 "nbformat": 4,
 "nbformat_minor": 2
}
