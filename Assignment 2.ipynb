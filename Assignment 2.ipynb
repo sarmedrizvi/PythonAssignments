{
 "cells": [
  {
   "cell_type": "code",
   "execution_count": 14,
   "metadata": {},
   "outputs": [
    {
     "name": "stdout",
     "output_type": "stream",
     "text": [
      "enter number4\n",
      "even\n"
     ]
    }
   ],
   "source": [
    "number=input('enter number');\n",
    "if (int(number) % 2) ==0 :\n",
    "    print('even')\n",
    "else :\n",
    "    print('odd')\n",
    "    "
   ]
  },
  {
   "cell_type": "code",
   "execution_count": 18,
   "metadata": {},
   "outputs": [
    {
     "name": "stdout",
     "output_type": "stream",
     "text": [
      "10\n"
     ]
    }
   ],
   "source": [
    "list=['a','b','c','d','e','f','g','h','i','j']\n",
    "print(len(list))"
   ]
  },
  {
   "cell_type": "code",
   "execution_count": 19,
   "metadata": {},
   "outputs": [
    {
     "name": "stdout",
     "output_type": "stream",
     "text": [
      "28\n"
     ]
    }
   ],
   "source": [
    "list=[2,5,3,6,2,5,5]\n",
    "print(sum(list))"
   ]
  },
  {
   "cell_type": "code",
   "execution_count": 20,
   "metadata": {},
   "outputs": [
    {
     "name": "stdout",
     "output_type": "stream",
     "text": [
      "89\n"
     ]
    }
   ],
   "source": [
    "list=[10,56,34,89,42,45,23,67]\n",
    "print(max(list))"
   ]
  },
  {
   "cell_type": "code",
   "execution_count": 27,
   "metadata": {},
   "outputs": [
    {
     "name": "stdout",
     "output_type": "stream",
     "text": [
      "[8, 13, 21, 34, 55, 89]\n"
     ]
    }
   ],
   "source": [
    "a= [1, 1, 2, 3, 5, 8, 13, 21, 34, 55, 89]\n",
    "j2 = [i for i in a if i > 5]\n",
    "print(j2)"
   ]
  },
  {
   "cell_type": "code",
   "execution_count": 39,
   "metadata": {},
   "outputs": [
    {
     "name": "stdout",
     "output_type": "stream",
     "text": [
      "input maths marks 60\n",
      "input english marks 60\n",
      "input urdu marks 60\n",
      "input physics marks 60\n",
      "input chemistry marks 60\n",
      "C grade\n"
     ]
    }
   ],
   "source": [
    "math=int(input('input maths marks '))\n",
    "english=int(input('input english marks '))\n",
    "urdu=int(input('input urdu marks '))\n",
    "physics=int(input('input physics marks '))\n",
    "chemistry=int(input('input chemistry marks '))\n",
    "total=math+english+urdu+physics+chemistry\n",
    "percentage=(total/500)*100\n",
    "if percentage >= 90 :\n",
    "    print('A+ grade')\n",
    "elif percentage >= 80 :\n",
    "    print('A grade')\n",
    "elif percentage >= 70 :\n",
    "    print('B grade')\n",
    "elif percentage >= 60 :\n",
    "    print('C grade')\n",
    "elif percentage >= 50 :\n",
    "    print('D grade')\n",
    "elif percentage >=40 :\n",
    "    print('E grade')\n",
    "else :\n",
    "    print('Fail')"
   ]
  },
  {
   "cell_type": "markdown",
   "metadata": {},
   "source": []
  },
  {
   "cell_type": "code",
   "execution_count": null,
   "metadata": {},
   "outputs": [],
   "source": []
  }
 ],
 "metadata": {
  "kernelspec": {
   "display_name": "Python 3",
   "language": "python",
   "name": "python3"
  },
  "language_info": {
   "codemirror_mode": {
    "name": "ipython",
    "version": 3
   },
   "file_extension": ".py",
   "mimetype": "text/x-python",
   "name": "python",
   "nbconvert_exporter": "python",
   "pygments_lexer": "ipython3",
   "version": "3.7.4"
  }
 },
 "nbformat": 4,
 "nbformat_minor": 2
}
